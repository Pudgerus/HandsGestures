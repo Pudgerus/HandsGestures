{
 "cells": [
  {
   "cell_type": "code",
   "execution_count": 44,
   "metadata": {},
   "outputs": [],
   "source": [
    "import pandas as pd\n",
    "import numpy as np\n",
    "from tensorflow.keras.metrics import Precision, Recall, AUC\n",
    "from tensorflow.keras.models import Sequential\n",
    "from tensorflow.keras.layers import LSTM, Dense, Dropout, GRU\n",
    "from tensorflow.keras.utils import to_categorical\n",
    "from tensorflow.keras.regularizers import l2\n",
    "from tensorflow.keras.callbacks import EarlyStopping, ModelCheckpoint\n",
    "from sklearn.model_selection import train_test_split\n",
    "from sklearn.preprocessing import MinMaxScaler, RobustScaler\n",
    "from tensorflow.keras.layers import Bidirectional\n",
    "from tensorflow.keras.layers import LayerNormalization\n",
    "from tensorflow.keras.optimizers import Adam\n",
    "import tensorflow as tf\n",
    "import itertools\n",
    "import mediapipe as mp\n",
    "from collections import deque\n",
    "import matplotlib.pyplot  as plt\n",
    "import torch"
   ]
  },
  {
   "cell_type": "code",
   "execution_count": 4,
   "metadata": {},
   "outputs": [],
   "source": [
    "filtered_df = pd.read_csv('Mediapipe_Dataset_with_0.csv')"
   ]
  },
  {
   "cell_type": "code",
   "execution_count": 5,
   "metadata": {},
   "outputs": [],
   "source": [
    "for i in range(21):\n",
    "    filtered_df.drop(columns = f'landmark_{i}_z', inplace = True)"
   ]
  },
  {
   "cell_type": "code",
   "execution_count": 6,
   "metadata": {},
   "outputs": [],
   "source": [
    "X, y = filtered_df.drop(columns=['label','label_id', 'path']), filtered_df['label_id']"
   ]
  },
  {
   "cell_type": "code",
   "execution_count": 7,
   "metadata": {},
   "outputs": [
    {
     "name": "stdout",
     "output_type": "stream",
     "text": [
      "492174 492174\n",
      "(13302,)\n",
      "(13302, 37, 42)\n"
     ]
    }
   ],
   "source": [
    "minmax = RobustScaler()\n",
    "X_scaled = minmax.fit_transform(X)\n",
    "\n",
    "window_size_x = 37\n",
    "window_size_y = 37\n",
    "print(len(X), len(y))\n",
    "n_samples = len(X_scaled) // window_size_x\n",
    "n_samples_y = len(y) // window_size_y\n",
    "\n",
    "y_seq = np.array(y[:n_samples_y * window_size_y]).reshape(n_samples_y, window_size_y)\n",
    "\n",
    "y_seq = y_seq[:, 0] \n",
    "\n",
    "print(y_seq.shape)\n",
    "\n",
    "X_scaled = X_scaled.reshape(n_samples, 37, 42)\n",
    "\n",
    "X_train, X_test, y_train, y_test = train_test_split(X_scaled, y_seq, train_size=0.8, random_state=13)\n",
    "print(X_scaled.shape)"
   ]
  },
  {
   "cell_type": "code",
   "execution_count": 21,
   "metadata": {},
   "outputs": [],
   "source": [
    "X_tensor_train = torch.tensor(X_train).float()\n",
    "X_tensor_test = torch.tensor(X_test).float()"
   ]
  },
  {
   "cell_type": "code",
   "execution_count": 12,
   "metadata": {},
   "outputs": [],
   "source": [
    "import torch\n",
    "import torch.nn as nn\n",
    "\n",
    "class GRUAutoencoder(nn.Module):\n",
    "    def __init__(self, input_dim=63, hidden_dim=128, latent_dim=32):\n",
    "        super(GRUAutoencoder, self).__init__()\n",
    "\n",
    "        self.encoder_gru = nn.GRU(input_dim, hidden_dim, batch_first=True)\n",
    "        self.latent = nn.Linear(hidden_dim, latent_dim) \n",
    "\n",
    "        self.decoder_init = nn.Linear(latent_dim, hidden_dim)\n",
    "        self.decoder_gru = nn.GRU(input_dim, hidden_dim, batch_first=True)\n",
    "        self.output_layer = nn.Linear(hidden_dim, input_dim)\n",
    "\n",
    "    def forward(self, x):\n",
    "\n",
    "        _, h_n = self.encoder_gru(x) \n",
    "        h_n = h_n.squeeze(0)\n",
    "        z = self.latent(h_n)\n",
    "\n",
    "\n",
    "        h0_dec = self.decoder_init(z).unsqueeze(0)\n",
    "        decoder_input = torch.zeros_like(x)  \n",
    "\n",
    "        dec_out, _ = self.decoder_gru(decoder_input, h0_dec)\n",
    "        x_reconstructed = self.output_layer(dec_out)\n",
    "\n",
    "        return x_reconstructed, z\n"
   ]
  },
  {
   "cell_type": "code",
   "execution_count": 13,
   "metadata": {},
   "outputs": [],
   "source": [
    "def train_autoencoder(model, X_tensor, epochs=50, lr=1e-3):\n",
    "    optimizer = torch.optim.Adam(model.parameters(), lr=lr)\n",
    "    loss_fn = nn.MSELoss()\n",
    "\n",
    "    model.train()\n",
    "    for epoch in range(epochs):\n",
    "        optimizer.zero_grad()\n",
    "        x_recon, z = model(X_tensor)   \n",
    "        loss = loss_fn(x_recon, X_tensor)\n",
    "        loss.backward()                  \n",
    "        optimizer.step()                  \n",
    "        print(f\"Epoch {epoch+1}: Loss = {loss.item():.4f}\")\n"
   ]
  },
  {
   "cell_type": "code",
   "execution_count": null,
   "metadata": {},
   "outputs": [
    {
     "name": "stdout",
     "output_type": "stream",
     "text": [
      "Epoch 1: Loss = 0.8235\n",
      "Epoch 2: Loss = 0.8120\n",
      "Epoch 3: Loss = 0.8006\n",
      "Epoch 4: Loss = 0.7891\n",
      "Epoch 5: Loss = 0.7773\n",
      "Epoch 6: Loss = 0.7648\n",
      "Epoch 7: Loss = 0.7515\n",
      "Epoch 8: Loss = 0.7370\n",
      "Epoch 9: Loss = 0.7211\n",
      "Epoch 10: Loss = 0.7034\n",
      "Epoch 11: Loss = 0.6840\n",
      "Epoch 12: Loss = 0.6622\n",
      "Epoch 13: Loss = 0.6376\n",
      "Epoch 14: Loss = 0.6109\n",
      "Epoch 15: Loss = 0.5880\n",
      "Epoch 16: Loss = 0.5896\n",
      "Epoch 17: Loss = 0.6025\n",
      "Epoch 18: Loss = 0.5909\n",
      "Epoch 19: Loss = 0.5767\n",
      "Epoch 20: Loss = 0.5699\n",
      "Epoch 21: Loss = 0.5688\n",
      "Epoch 22: Loss = 0.5696\n",
      "Epoch 23: Loss = 0.5700\n",
      "Epoch 24: Loss = 0.5690\n",
      "Epoch 25: Loss = 0.5665\n",
      "Epoch 26: Loss = 0.5628\n",
      "Epoch 27: Loss = 0.5587\n",
      "Epoch 28: Loss = 0.5551\n",
      "Epoch 29: Loss = 0.5523\n",
      "Epoch 30: Loss = 0.5493\n",
      "Epoch 31: Loss = 0.5435\n",
      "Epoch 32: Loss = 0.5342\n",
      "Epoch 33: Loss = 0.5229\n",
      "Epoch 34: Loss = 0.5106\n",
      "Epoch 35: Loss = 0.4955\n",
      "Epoch 36: Loss = 0.4760\n",
      "Epoch 37: Loss = 0.4545\n",
      "Epoch 38: Loss = 0.4389\n",
      "Epoch 39: Loss = 0.4231\n",
      "Epoch 40: Loss = 0.4061\n",
      "Epoch 41: Loss = 0.3995\n",
      "Epoch 42: Loss = 0.3886\n",
      "Epoch 43: Loss = 0.3827\n",
      "Epoch 44: Loss = 0.3774\n",
      "Epoch 45: Loss = 0.3737\n",
      "Epoch 46: Loss = 0.3725\n",
      "Epoch 47: Loss = 0.3684\n",
      "Epoch 48: Loss = 0.3665\n",
      "Epoch 49: Loss = 0.3613\n",
      "Epoch 50: Loss = 0.3595\n"
     ]
    }
   ],
   "source": [
    "model = GRUAutoencoder(input_dim=42, hidden_dim=128, latent_dim=32)\n",
    "\n",
    "train_autoencoder(model, X_tensor_train, epochs=50, lr=1e-3)"
   ]
  },
  {
   "cell_type": "code",
   "execution_count": null,
   "metadata": {},
   "outputs": [
    {
     "name": "stdout",
     "output_type": "stream",
     "text": [
      "Test reconstruction loss (MSE): 0.3578\n"
     ]
    }
   ],
   "source": [
    "model.eval()\n",
    "\n",
    "with torch.no_grad():\n",
    "    x_reconstructed, z_test = model(X_tensor_test)\n",
    "\n",
    "    loss_fn = nn.MSELoss()\n",
    "    test_loss = loss_fn(x_reconstructed, X_tensor_test)\n",
    "\n",
    "print(f\"Test reconstruction loss (MSE): {test_loss.item():.4f}\")"
   ]
  },
  {
   "cell_type": "code",
   "execution_count": 24,
   "metadata": {},
   "outputs": [],
   "source": [
    "model.eval() \n",
    "with torch.no_grad():\n",
    "    _, z_train = model(X_tensor_train)\n",
    "    _, z_test = model(X_tensor_test)"
   ]
  },
  {
   "cell_type": "code",
   "execution_count": null,
   "metadata": {},
   "outputs": [],
   "source": [
    "z_train_np = z_train.cpu().numpy()\n",
    "z_test_np = z_test.cpu().numpy()"
   ]
  },
  {
   "cell_type": "code",
   "execution_count": 42,
   "metadata": {},
   "outputs": [],
   "source": [
    "robust = RobustScaler()\n",
    "z_train_sc = robust.fit_transform(z_train_np)\n",
    "z_test_sc = robust.transform(z_test_np)"
   ]
  },
  {
   "cell_type": "code",
   "execution_count": 43,
   "metadata": {},
   "outputs": [
    {
     "name": "stdout",
     "output_type": "stream",
     "text": [
      "Classification accuracy: 0.4927\n"
     ]
    }
   ],
   "source": [
    "from sklearn.linear_model import LogisticRegression\n",
    "from sklearn.metrics import accuracy_score\n",
    "\n",
    "clf = LogisticRegression(max_iter=1000)\n",
    "clf.fit(z_train_sc, y_train)\n",
    "\n",
    "y_pred = clf.predict(z_test_sc)\n",
    "acc = accuracy_score(y_test, y_pred)\n",
    "\n",
    "print(f\"Classification accuracy: {acc:.4f}\")"
   ]
  }
 ],
 "metadata": {
  "kernelspec": {
   "display_name": "Python 3",
   "language": "python",
   "name": "python3"
  },
  "language_info": {
   "codemirror_mode": {
    "name": "ipython",
    "version": 3
   },
   "file_extension": ".py",
   "mimetype": "text/x-python",
   "name": "python",
   "nbconvert_exporter": "python",
   "pygments_lexer": "ipython3",
   "version": "3.10.11"
  }
 },
 "nbformat": 4,
 "nbformat_minor": 2
}
